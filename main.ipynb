{
 "cells": [
  {
   "cell_type": "code",
   "execution_count": 14,
   "metadata": {},
   "outputs": [],
   "source": [
    "import numpy as np\n",
    "import matplotlib.pyplot as plt\n",
    "import keras.datasets.mnist as mnist\n",
    "from tqdm import tqdm"
   ]
  },
  {
   "cell_type": "code",
   "execution_count": 15,
   "metadata": {},
   "outputs": [],
   "source": [
    "def one_hot_vector(n, total):\n",
    "  return np.array([0] * (n) + [1] + [0] * (total-n-1), dtype=np.float64).reshape(total, 1)\n",
    "\n",
    "\n",
    "def rmse(prediction, real_result):\n",
    "  return np.sqrt(np.mean(np.square(prediction-real_result)))\n",
    "\n",
    "\n",
    "# def binary_cross_entropy(p, y):\n",
    "#   print(y * np.log(p) + (1-y) * np.log(1-p))\n",
    "#   return -np.sum((y * np.log(p) + (1-y) * np.log(1-p)))\n",
    "\n",
    "\n",
    "def binary_cross_entropy(p, y):\n",
    "  return -np.sum(y * np.log(p), axis=0)\n"
   ]
  },
  {
   "cell_type": "code",
   "execution_count": 16,
   "metadata": {},
   "outputs": [],
   "source": [
    "(x_train, y_train), (x_test, y_test) = mnist.load_data()\n",
    "x_train = x_train.reshape(len(x_train), 28*28, 1).astype(np.float64)\n",
    "y_train = np.array(list(map(lambda x: one_hot_vector(x, 10), y_train)))\n",
    "\n",
    "x_train = (x_train-127.5)/127.5\n",
    "x_test = x_test.reshape(len(x_test), 28*28, 1).astype(np.float64)\n",
    "x_test = (x_test-127.5)/127.5\n",
    "y_test = np.array(list(map(lambda x: one_hot_vector(x, 10), y_test)))"
   ]
  },
  {
   "cell_type": "code",
   "execution_count": 17,
   "metadata": {},
   "outputs": [],
   "source": [
    "class Activation():\n",
    "  def forward(self, input):\n",
    "    pass\n",
    "\n",
    "  def backward(self, output):\n",
    "    pass\n",
    "\n",
    "\n",
    "class Sigmoid(Activation):\n",
    "  def forward(self, input):\n",
    "    return 1/(1+np.exp(-input))\n",
    "\n",
    "  def backward(self, output):\n",
    "    return output * (1-output)\n",
    "\n",
    "\n",
    "class Softmax(Activation):\n",
    "  def forward(self, input):\n",
    "    return np.exp(input)/sum(np.exp(input))\n",
    "\n",
    "  def backward(self, output):\n",
    "    pass\n",
    "\n",
    "\n",
    "class SoftmaxCrossEntropy(Activation):\n",
    "  def forward(self, input):\n",
    "    return Softmax().forward(input)\n",
    "\n",
    "  def loss(self, input, real_result):\n",
    "    return binary_cross_entropy(input, real_result)\n",
    "\n",
    "  def backward(self, output, real_reault):\n",
    "    return output - real_reault\n",
    "\n",
    "\n",
    "class NN(object):\n",
    "  def __init__(self, input, output, hidden, learning_rate, batch, activation_func, final_activation):\n",
    "    self.network = []\n",
    "    self.predict = []\n",
    "    self.layer_count = 0\n",
    "    self.layer_count = len(hidden) + 2\n",
    "    self.activation_func = activation_func\n",
    "    self.learning_rate = learning_rate\n",
    "    self.batch = batch\n",
    "    self.final = final_activation\n",
    "\n",
    "    try:\n",
    "      assert(isinstance(self.activation_func, Activation))\n",
    "    except:\n",
    "      raise Exception(\"Activation function type error.\")\n",
    "\n",
    "    try:\n",
    "      assert(isinstance(final_activation, Activation))\n",
    "    except:\n",
    "      raise Exception(\"Final Activation & Loss function type error.\")\n",
    "\n",
    "    self.construct_layers(input, output, hidden)\n",
    "\n",
    "  def construct_layers(self, n, m, hidden):\n",
    "    i = 0\n",
    "    layers = [n]+hidden+[m]\n",
    "    while i < len(layers) - 1:\n",
    "      self.network.append(np.random.rand(layers[i+1], layers[i]) - 0.5)\n",
    "      i += 1\n",
    "\n",
    "  def evaulate(self, data):\n",
    "    data = data.squeeze().T\n",
    "    self.predict = [data.copy()]\n",
    "    for weight in self.network[:-1]:\n",
    "      data = self.activation_func.forward(weight.dot(data))\n",
    "      self.predict.append(data)\n",
    "    data = self.final.forward(self.network[-1].dot(data))\n",
    "    self.predict.append(data)\n",
    "    return data\n",
    "\n",
    "  def loss(self, evaulated, real_result):\n",
    "    real_result = real_result.squeeze().T\n",
    "    return self.final.loss(evaulated, real_result)\n",
    "\n",
    "  def back_propagation(self, real_result):\n",
    "    real_result = real_result.squeeze().T\n",
    "    predict = self.predict.pop()\n",
    "    gradient = self.final.backward(predict, real_result)\n",
    "    last_weight = self.network[-1].copy()\n",
    "    self.network[-1] -= self.learning_rate * gradient.dot(self.predict[-1].T)\n",
    "    for i in reversed(range(len(self.network) - 1)):\n",
    "      activation_gradient = self.activation_func.backward(self.predict.pop())\n",
    "      gradient = last_weight.T.dot(gradient) * activation_gradient\n",
    "      last_weight = self.network[i].copy()\n",
    "      self.network[i] -= self.learning_rate * gradient.dot(self.predict[-1].T)\n",
    "\n",
    "  def train(self, x, y, epoch):\n",
    "    loss_plt = []\n",
    "    for _ in range(epoch):\n",
    "      t = tqdm(range(len(x)//self.batch+1))\n",
    "      randomize = np.arange(len(x))\n",
    "      np.random.shuffle(randomize)\n",
    "      x, y = x[randomize], y[randomize]\n",
    "      for i in t:\n",
    "        __x = x[i*self.batch:(i+1)*self.batch]\n",
    "        __y = y[i * self.batch:(i+1)*self.batch]\n",
    "        if __x.shape[0] == 0:\n",
    "          continue\n",
    "        result = self.evaulate(__x)\n",
    "        loss = self.loss(result, __y)\n",
    "        self.back_propagation(__y)\n",
    "        loss_plt.append(np.median(loss))\n",
    "        if i % 10 == 0:\n",
    "          t.set_description(f\"Epoch: #{_}, loss: {loss_plt[-1]:.10f}\")\n",
    "    return loss_plt\n",
    "\n",
    "  def __repr__(self):\n",
    "    return f\"<NN layer: {self.layer_count}>\"\n"
   ]
  },
  {
   "cell_type": "code",
   "execution_count": 18,
   "metadata": {},
   "outputs": [],
   "source": [
    "nn = NN(\n",
    "    input=28*28,\n",
    "    output=10,\n",
    "    hidden=[28*28, 600, 500, 300, 100, 50],\n",
    "    learning_rate=5e-3,\n",
    "    batch=100,\n",
    "    activation_func=Sigmoid(),\n",
    "    final_activation=SoftmaxCrossEntropy()\n",
    ")"
   ]
  },
  {
   "cell_type": "code",
   "execution_count": 19,
   "metadata": {},
   "outputs": [
    {
     "name": "stderr",
     "output_type": "stream",
     "text": [
      "Epoch: #0, loss: 0.0314026790: 100%|██████████| 601/601 [00:20<00:00, 29.28it/s]\n",
      "Epoch: #1, loss: 0.0122222740: 100%|██████████| 601/601 [00:19<00:00, 31.05it/s]\n",
      "Epoch: #2, loss: 0.0068290542: 100%|██████████| 601/601 [00:18<00:00, 33.08it/s]\n",
      "Epoch: #3, loss: 0.0025929494: 100%|██████████| 601/601 [00:18<00:00, 32.84it/s]\n",
      "Epoch: #4, loss: 0.0029194253: 100%|██████████| 601/601 [00:19<00:00, 30.87it/s]\n",
      "Epoch: #5, loss: 0.0029882100: 100%|██████████| 601/601 [00:18<00:00, 32.33it/s]\n",
      "Epoch: #6, loss: 0.0013402611: 100%|██████████| 601/601 [00:18<00:00, 32.54it/s]\n",
      "Epoch: #7, loss: 0.0013667780: 100%|██████████| 601/601 [00:19<00:00, 31.37it/s]\n",
      "Epoch: #8, loss: 0.0009295511: 100%|██████████| 601/601 [00:18<00:00, 32.58it/s]\n",
      "Epoch: #9, loss: 0.0005801524: 100%|██████████| 601/601 [00:19<00:00, 31.62it/s]\n",
      "Epoch: #10, loss: 0.0005479986: 100%|██████████| 601/601 [00:18<00:00, 31.88it/s]\n",
      "Epoch: #11, loss: 0.0006226953: 100%|██████████| 601/601 [00:20<00:00, 29.36it/s]\n",
      "Epoch: #12, loss: 0.0003412990: 100%|██████████| 601/601 [00:21<00:00, 28.15it/s]\n",
      "Epoch: #13, loss: 0.0003491155: 100%|██████████| 601/601 [00:18<00:00, 32.95it/s]\n",
      "Epoch: #14, loss: 0.0001884488: 100%|██████████| 601/601 [00:18<00:00, 32.37it/s]\n",
      "Epoch: #15, loss: 0.0003029909: 100%|██████████| 601/601 [00:18<00:00, 32.16it/s]\n",
      "Epoch: #16, loss: 0.0001250746: 100%|██████████| 601/601 [00:18<00:00, 31.86it/s]\n",
      "Epoch: #17, loss: 0.0000988510: 100%|██████████| 601/601 [00:18<00:00, 32.11it/s]\n",
      "Epoch: #18, loss: 0.0000773725: 100%|██████████| 601/601 [00:18<00:00, 32.28it/s]\n",
      "Epoch: #19, loss: 0.0001022917: 100%|██████████| 601/601 [00:18<00:00, 32.30it/s]\n"
     ]
    },
    {
     "data": {
      "text/plain": [
       "[<matplotlib.lines.Line2D at 0x1580ef970>]"
      ]
     },
     "execution_count": 19,
     "metadata": {},
     "output_type": "execute_result"
    },
    {
     "data": {
      "image/png": "[encoded data removed]",
      "text/plain": [
       "<Figure size 432x288 with 1 Axes>"
      ]
     },
     "metadata": {
      "needs_background": "light"
     },
     "output_type": "display_data"
    }
   ],
   "source": [
    "loss = nn.train(x_train, y_train, 20)\n",
    "plt.plot(loss)"
   ]
  },
  {
   "cell_type": "code",
   "execution_count": 22,
   "metadata": {},
   "outputs": [
    {
     "data": {
      "text/plain": [
       "array([6.81839756e-07, 9.99532785e-01, 9.43667825e-07, 2.30001072e-05,\n",
       "       1.54057656e-04, 1.93319643e-06, 3.84722935e-06, 2.73287444e-04,\n",
       "       2.27255056e-06, 7.19086071e-06])"
      ]
     },
     "execution_count": 22,
     "metadata": {},
     "output_type": "execute_result"
    },
    {
     "data": {
      "image/png": "[encoded data removed]",
      "text/plain": [
       "<Figure size 432x288 with 1 Axes>"
      ]
     },
     "metadata": {
      "needs_background": "light"
     },
     "output_type": "display_data"
    }
   ],
   "source": [
    "i = 99\n",
    "plt.imshow(x_train[i].reshape(28, 28))\n",
    "result = nn.evaulate(x_train[i:i+1])\n",
    "result"
   ]
  },
  {
   "cell_type": "code",
   "execution_count": 23,
   "metadata": {},
   "outputs": [
    {
     "name": "stdout",
     "output_type": "stream",
     "text": [
      "Accuracy 0.9747\n"
     ]
    }
   ],
   "source": [
    "correct = 0\n",
    "\n",
    "for x, y in zip(x_test, y_test):\n",
    "  result = nn.evaulate(x)\n",
    "  if np.where(y == 1)[0] == np.where(result == np.amax(result))[0][0]:\n",
    "    correct += 1\n",
    "\n",
    "print(\"Accuracy\", correct/len(x_test))"
   ]
  },
  {
   "cell_type": "code",
   "execution_count": null,
   "metadata": {},
   "outputs": [],
   "source": []
  }
 ],
 "metadata": {
  "interpreter": {
   "hash": "09f3d8eecba84f2f4202d253b4adc6714ee8a6f39a500ddef9e175895c02c813"
  },
  "kernelspec": {
   "display_name": "Python 3.9.12 ('env')",
   "language": "python",
   "name": "python3"
  },
  "language_info": {
   "codemirror_mode": {
    "name": "ipython",
    "version": 3
   },
   "file_extension": ".py",
   "mimetype": "text/x-python",
   "name": "python",
   "nbconvert_exporter": "python",
   "pygments_lexer": "ipython3",
   "version": "3.9.12"
  },
  "orig_nbformat": 4
 },
 "nbformat": 4,
 "nbformat_minor": 2
}
